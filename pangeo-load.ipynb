{
 "cells": [
  {
   "cell_type": "code",
   "execution_count": 1,
   "metadata": {},
   "outputs": [
    {
     "name": "stderr",
     "output_type": "stream",
     "text": [
      "/srv/conda/envs/notebook/lib/python3.6/site-packages/ipykernel_launcher.py:7: TqdmExperimentalWarning: Using `tqdm.autonotebook.tqdm` in notebook mode. Use `tqdm.tqdm` instead to force console mode (e.g. in jupyter console)\n",
      "  import sys\n"
     ]
    }
   ],
   "source": [
    "from matplotlib import pyplot as plt\n",
    "import numpy as np\n",
    "import pandas as pd\n",
    "import xarray as xr\n",
    "import zarr\n",
    "import gcsfs\n",
    "from tqdm.autonotebook import tqdm\n",
    "import os\n",
    "import cftime\n",
    "import json\n",
    "from dask import array\n",
    "\n",
    "%matplotlib inline\n",
    "plt.rcParams['figure.figsize'] = 12, 6\n",
    "%config InlineBackend.figure_format = 'retina' "
   ]
  },
  {
   "cell_type": "code",
   "execution_count": null,
   "metadata": {
    "slideshow": {
     "slide_type": "-"
    }
   },
   "outputs": [],
   "source": [
    "from dask.distributed import Client\n",
    "from dask_kubernetes import KubeCluster\n",
    "\n",
    "cluster = KubeCluster.from_yaml('worker-spec.yml')\n",
    "cluster.adapt(minimum=1, maximum=20, interval='2s')\n",
    "client = Client(cluster)\n",
    "client"
   ]
  },
  {
   "cell_type": "code",
   "execution_count": 4,
   "metadata": {},
   "outputs": [
    {
     "data": {
      "text/html": [
       "<div>\n",
       "<style scoped>\n",
       "    .dataframe tbody tr th:only-of-type {\n",
       "        vertical-align: middle;\n",
       "    }\n",
       "\n",
       "    .dataframe tbody tr th {\n",
       "        vertical-align: top;\n",
       "    }\n",
       "\n",
       "    .dataframe thead th {\n",
       "        text-align: right;\n",
       "    }\n",
       "</style>\n",
       "<table border=\"1\" class=\"dataframe\">\n",
       "  <thead>\n",
       "    <tr style=\"text-align: right;\">\n",
       "      <th></th>\n",
       "      <th>activity_id</th>\n",
       "      <th>institution_id</th>\n",
       "      <th>source_id</th>\n",
       "      <th>experiment_id</th>\n",
       "      <th>member_id</th>\n",
       "      <th>table_id</th>\n",
       "      <th>variable_id</th>\n",
       "      <th>grid_label</th>\n",
       "      <th>zstore</th>\n",
       "      <th>dcpp_init_year</th>\n",
       "    </tr>\n",
       "  </thead>\n",
       "  <tbody>\n",
       "    <tr>\n",
       "      <th>0</th>\n",
       "      <td>AerChemMIP</td>\n",
       "      <td>BCC</td>\n",
       "      <td>BCC-ESM1</td>\n",
       "      <td>histSST</td>\n",
       "      <td>r1i1p1f1</td>\n",
       "      <td>AERmon</td>\n",
       "      <td>mmrbc</td>\n",
       "      <td>gn</td>\n",
       "      <td>gs://cmip6/AerChemMIP/BCC/BCC-ESM1/histSST/r1i...</td>\n",
       "      <td>NaN</td>\n",
       "    </tr>\n",
       "    <tr>\n",
       "      <th>1</th>\n",
       "      <td>AerChemMIP</td>\n",
       "      <td>BCC</td>\n",
       "      <td>BCC-ESM1</td>\n",
       "      <td>histSST</td>\n",
       "      <td>r1i1p1f1</td>\n",
       "      <td>AERmon</td>\n",
       "      <td>mmrdust</td>\n",
       "      <td>gn</td>\n",
       "      <td>gs://cmip6/AerChemMIP/BCC/BCC-ESM1/histSST/r1i...</td>\n",
       "      <td>NaN</td>\n",
       "    </tr>\n",
       "    <tr>\n",
       "      <th>2</th>\n",
       "      <td>AerChemMIP</td>\n",
       "      <td>BCC</td>\n",
       "      <td>BCC-ESM1</td>\n",
       "      <td>histSST</td>\n",
       "      <td>r1i1p1f1</td>\n",
       "      <td>AERmon</td>\n",
       "      <td>mmroa</td>\n",
       "      <td>gn</td>\n",
       "      <td>gs://cmip6/AerChemMIP/BCC/BCC-ESM1/histSST/r1i...</td>\n",
       "      <td>NaN</td>\n",
       "    </tr>\n",
       "    <tr>\n",
       "      <th>3</th>\n",
       "      <td>AerChemMIP</td>\n",
       "      <td>BCC</td>\n",
       "      <td>BCC-ESM1</td>\n",
       "      <td>histSST</td>\n",
       "      <td>r1i1p1f1</td>\n",
       "      <td>AERmon</td>\n",
       "      <td>mmrso4</td>\n",
       "      <td>gn</td>\n",
       "      <td>gs://cmip6/AerChemMIP/BCC/BCC-ESM1/histSST/r1i...</td>\n",
       "      <td>NaN</td>\n",
       "    </tr>\n",
       "    <tr>\n",
       "      <th>4</th>\n",
       "      <td>AerChemMIP</td>\n",
       "      <td>BCC</td>\n",
       "      <td>BCC-ESM1</td>\n",
       "      <td>histSST</td>\n",
       "      <td>r1i1p1f1</td>\n",
       "      <td>AERmon</td>\n",
       "      <td>mmrss</td>\n",
       "      <td>gn</td>\n",
       "      <td>gs://cmip6/AerChemMIP/BCC/BCC-ESM1/histSST/r1i...</td>\n",
       "      <td>NaN</td>\n",
       "    </tr>\n",
       "  </tbody>\n",
       "</table>\n",
       "</div>"
      ],
      "text/plain": [
       "  activity_id institution_id source_id experiment_id member_id table_id  \\\n",
       "0  AerChemMIP            BCC  BCC-ESM1       histSST  r1i1p1f1   AERmon   \n",
       "1  AerChemMIP            BCC  BCC-ESM1       histSST  r1i1p1f1   AERmon   \n",
       "2  AerChemMIP            BCC  BCC-ESM1       histSST  r1i1p1f1   AERmon   \n",
       "3  AerChemMIP            BCC  BCC-ESM1       histSST  r1i1p1f1   AERmon   \n",
       "4  AerChemMIP            BCC  BCC-ESM1       histSST  r1i1p1f1   AERmon   \n",
       "\n",
       "  variable_id grid_label                                             zstore  \\\n",
       "0       mmrbc         gn  gs://cmip6/AerChemMIP/BCC/BCC-ESM1/histSST/r1i...   \n",
       "1     mmrdust         gn  gs://cmip6/AerChemMIP/BCC/BCC-ESM1/histSST/r1i...   \n",
       "2       mmroa         gn  gs://cmip6/AerChemMIP/BCC/BCC-ESM1/histSST/r1i...   \n",
       "3      mmrso4         gn  gs://cmip6/AerChemMIP/BCC/BCC-ESM1/histSST/r1i...   \n",
       "4       mmrss         gn  gs://cmip6/AerChemMIP/BCC/BCC-ESM1/histSST/r1i...   \n",
       "\n",
       "   dcpp_init_year  \n",
       "0             NaN  \n",
       "1             NaN  \n",
       "2             NaN  \n",
       "3             NaN  \n",
       "4             NaN  "
      ]
     },
     "execution_count": 4,
     "metadata": {},
     "output_type": "execute_result"
    }
   ],
   "source": [
    "df = pd.read_csv('https://storage.googleapis.com/cmip6/cmip6-zarr-consolidated-stores.csv')\n",
    "gcs = gcsfs.GCSFileSystem(token='anon')\n",
    "df.head()"
   ]
  },
  {
   "cell_type": "code",
   "execution_count": 5,
   "metadata": {},
   "outputs": [],
   "source": [
    "dfs = pd.read_csv('pangeo.csv')"
   ]
  },
  {
   "cell_type": "code",
   "execution_count": 6,
   "metadata": {},
   "outputs": [],
   "source": [
    "# file_attrs = json.load(open('file_attrs.txt','r'))\n",
    "# all_attrs = set(['_'.join([a['source_id'],a['member_id'],a['experiment_id'],a['table_id'],a['variable_id']]) for a in file_attrs])\n",
    "\n",
    "# def want(s, m, e, t, v):\n",
    "#     key = s+'_'+m+'_'+e+'_'+t+'_'+v\n",
    "#     return s+'_'+m+'_'+e+'_'+t+'_'+v\n",
    "\n",
    "# dfs = df[df[['source_id','member_id','experiment_id','table_id','variable_id']].apply(lambda x: want(*x) in all_attrs, axis=1)]\n",
    "\n",
    "# pangeo_attrs = set(dfs[['source_id','member_id','experiment_id','table_id','variable_id']].apply(lambda x: want(*x), axis=1).values)\n",
    "# manual_attrs = [a for a in all_attrs if a not in pangeo_attrs]\n",
    "# json.dump(list(pangeo_attrs), open('pangeo_loads.txt', 'w'))\n",
    "# json.dump(list(manual_attrs), open('manual_loads.txt', 'w'))\n",
    "\n",
    "# dfs.to_csv('pangeo_loads.csv')"
   ]
  },
  {
   "cell_type": "code",
   "execution_count": 7,
   "metadata": {},
   "outputs": [],
   "source": [
    "def load_srch_data(df, source_id, expt_id):\n",
    "\n",
    "    uri = df[(df.source_id == source_id) &\n",
    "                         (df.experiment_id == expt_id)].zstore.values[0]\n",
    "    \n",
    "    ds = xr.open_zarr(gcs.get_mapper(uri), consolidated=True)\n",
    "    return ds\n",
    "\n",
    "def load_data(series):\n",
    "    ds = xr.open_zarr(gcs.get_mapper(series.zstore), consolidated=True)\n",
    "    return ds\n",
    "\n",
    "def get_dims(ds):\n",
    "    ds_coords = [l for l in list(ds.coords.keys()) if 'bnds' not in l and 'vert' not in l]\n",
    "    dims = [[l for l in ds_coords if 'lat' in l][0], [l for l in ds_coords if 'lon' in l][0]]\n",
    "    lat = ds.coords.get(dims[0]).data\n",
    "    lon = ds.coords.get(dims[1]).data\n",
    "    return lat, lon, dims\n",
    "\n",
    "def get_area(ds, df):\n",
    "    var = ds.get(ds.variable_id)\n",
    "    realm = ds.table_id[0].lower()\n",
    "    lat, lon, dims = get_dims(ds)\n",
    "\n",
    "    df_area = df.query(\"variable_id == 'areacell\"+realm+\"' & source_id == '\"+ds.source_id+\"'\")\n",
    "    if len(df_area.zstore.values) == 0:\n",
    "        if len(lat) > 2000:\n",
    "            area = lat\n",
    "            dims = [\"ncells\"]\n",
    "            total_area = lat.sum()\n",
    "        else:\n",
    "            time, lon, area = np.meshgrid(ds.time, np.cos(lat), lon, indexing='ij')\n",
    "            total_area = area[0,:,:].sum()\n",
    "    else:\n",
    "        ds_area = xr.open_zarr(gcs.get_mapper(df_area.zstore.values[0]), consolidated=True)\n",
    "        area = ds_area.get(\"areacell\"+realm)\n",
    "        total_area = area.sum(area.dims)\n",
    "        dims = area.dims\n",
    "\n",
    "    return area, dims, total_area\n",
    "\n",
    "def avg_var(ds, df):\n",
    "    area, dims, total_area = get_area(ds, df)\n",
    "    var = ds.get(ds.variable_id)\n",
    "    \n",
    "    ta_timeseries = (var * area).sum(dim=dims) / total_area\n",
    "    \n",
    "    if isinstance(ta_timeseries, type(None)):\n",
    "        print('failed')\n",
    "    return ta_timeseries\n",
    "\n"
   ]
  },
  {
   "cell_type": "code",
   "execution_count": 8,
   "metadata": {},
   "outputs": [],
   "source": [
    "results = {}"
   ]
  },
  {
   "cell_type": "code",
   "execution_count": null,
   "metadata": {},
   "outputs": [
    {
     "data": {
      "application/vnd.jupyter.widget-view+json": {
       "model_id": "16786e3094f94540b96386f43671f2af",
       "version_major": 2,
       "version_minor": 0
      },
      "text/plain": [
       "HBox(children=(FloatProgress(value=0.0, max=431.0), HTML(value='')))"
      ]
     },
     "metadata": {},
     "output_type": "display_data"
    },
    {
     "name": "stdout",
     "output_type": "stream",
     "text": [
      "163 : E3SM-1-1_piControl_r1i1p1f1_tos\n"
     ]
    },
    {
     "name": "stderr",
     "output_type": "stream",
     "text": [
      "/srv/conda/envs/notebook/lib/python3.6/site-packages/xarray/coding/times.py:426: SerializationWarning: Unable to decode time axis into full numpy.datetime64 objects, continuing using cftime.datetime objects instead, reason: dates out of range\n",
      "  dtype = _decode_cf_datetime_dtype(data, units, calendar, self.use_cftime)\n",
      "/srv/conda/envs/notebook/lib/python3.6/site-packages/xarray/coding/times.py:426: SerializationWarning: Unable to decode time axis into full numpy.datetime64 objects, continuing using cftime.datetime objects instead, reason: dates out of range\n",
      "  dtype = _decode_cf_datetime_dtype(data, units, calendar, self.use_cftime)\n",
      "/srv/conda/envs/notebook/lib/python3.6/site-packages/numpy/core/_asarray.py:85: SerializationWarning: Unable to decode time axis into full numpy.datetime64 objects, continuing using cftime.datetime objects instead, reason: dates out of range\n",
      "  return array(a, dtype, copy=False, order=order)\n"
     ]
    },
    {
     "name": "stdout",
     "output_type": "stream",
     "text": [
      "175 : MPI-ESM-1-2-HAM_piControl_r1i1p1f1_ts\n"
     ]
    },
    {
     "name": "stderr",
     "output_type": "stream",
     "text": [
      "/srv/conda/envs/notebook/lib/python3.6/site-packages/xarray/coding/times.py:426: SerializationWarning: Unable to decode time axis into full numpy.datetime64 objects, continuing using cftime.datetime objects instead, reason: dates out of range\n",
      "  dtype = _decode_cf_datetime_dtype(data, units, calendar, self.use_cftime)\n",
      "/srv/conda/envs/notebook/lib/python3.6/site-packages/xarray/coding/times.py:426: SerializationWarning: Unable to decode time axis into full numpy.datetime64 objects, continuing using cftime.datetime objects instead, reason: dates out of range\n",
      "  dtype = _decode_cf_datetime_dtype(data, units, calendar, self.use_cftime)\n",
      "/srv/conda/envs/notebook/lib/python3.6/site-packages/numpy/core/_asarray.py:85: SerializationWarning: Unable to decode time axis into full numpy.datetime64 objects, continuing using cftime.datetime objects instead, reason: dates out of range\n",
      "  return array(a, dtype, copy=False, order=order)\n"
     ]
    },
    {
     "name": "stdout",
     "output_type": "stream",
     "text": [
      "176 : MPI-ESM-1-2-HAM_piControl_r1i1p1f1_mlotst\n",
      "177 : IPSL-CM6A-LR_1pctCO2_r1i1p1f1_ts\n",
      "178 : IPSL-CM6A-LR_1pctCO2_r1i1p1f1_tos\n",
      "179 : IPSL-CM6A-LR_abrupt-4xCO2_r10i1p1f1_ts\n",
      "180 : IPSL-CM6A-LR_abrupt-4xCO2_r10i1p1f1_tos\n",
      "181 : IPSL-CM6A-LR_abrupt-4xCO2_r11i1p1f1_ts\n",
      "182 : IPSL-CM6A-LR_abrupt-4xCO2_r11i1p1f1_tos\n",
      "183 : IPSL-CM6A-LR_abrupt-4xCO2_r12i1p1f1_ts\n",
      "184 : IPSL-CM6A-LR_abrupt-4xCO2_r12i1p1f1_tos\n",
      "185 : IPSL-CM6A-LR_abrupt-4xCO2_r2i1p1f1_ts\n",
      "186 : IPSL-CM6A-LR_abrupt-4xCO2_r2i1p1f1_tos\n",
      "187 : IPSL-CM6A-LR_abrupt-4xCO2_r3i1p1f1_ts\n",
      "188 : IPSL-CM6A-LR_abrupt-4xCO2_r3i1p1f1_tos\n",
      "189 : IPSL-CM6A-LR_abrupt-4xCO2_r4i1p1f1_ts\n",
      "190 : IPSL-CM6A-LR_abrupt-4xCO2_r4i1p1f1_tos\n",
      "191 : IPSL-CM6A-LR_abrupt-4xCO2_r5i1p1f1_ts\n",
      "192 : IPSL-CM6A-LR_abrupt-4xCO2_r5i1p1f1_tos\n",
      "193 : IPSL-CM6A-LR_abrupt-4xCO2_r6i1p1f1_ts\n",
      "194 : IPSL-CM6A-LR_abrupt-4xCO2_r6i1p1f1_tos\n",
      "195 : IPSL-CM6A-LR_abrupt-4xCO2_r7i1p1f1_ts\n",
      "196 : IPSL-CM6A-LR_abrupt-4xCO2_r7i1p1f1_tos\n",
      "197 : IPSL-CM6A-LR_abrupt-4xCO2_r8i1p1f1_ts\n",
      "198 : IPSL-CM6A-LR_abrupt-4xCO2_r8i1p1f1_tos\n",
      "199 : IPSL-CM6A-LR_abrupt-4xCO2_r9i1p1f1_ts\n",
      "200 : IPSL-CM6A-LR_abrupt-4xCO2_r9i1p1f1_tos\n"
     ]
    },
    {
     "name": "stderr",
     "output_type": "stream",
     "text": [
      "/srv/conda/envs/notebook/lib/python3.6/site-packages/xarray/coding/times.py:426: SerializationWarning: Unable to decode time axis into full numpy.datetime64 objects, continuing using cftime.datetime objects instead, reason: dates out of range\n",
      "  dtype = _decode_cf_datetime_dtype(data, units, calendar, self.use_cftime)\n",
      "/srv/conda/envs/notebook/lib/python3.6/site-packages/numpy/core/_asarray.py:85: SerializationWarning: Unable to decode time axis into full numpy.datetime64 objects, continuing using cftime.datetime objects instead, reason: dates out of range\n",
      "  return array(a, dtype, copy=False, order=order)\n"
     ]
    },
    {
     "name": "stdout",
     "output_type": "stream",
     "text": [
      "201 : IPSL-CM6A-LR_piControl_r1i1p1f1_ts\n"
     ]
    },
    {
     "name": "stderr",
     "output_type": "stream",
     "text": [
      "/srv/conda/envs/notebook/lib/python3.6/site-packages/xarray/coding/times.py:426: SerializationWarning: Unable to decode time axis into full numpy.datetime64 objects, continuing using cftime.datetime objects instead, reason: dates out of range\n",
      "  dtype = _decode_cf_datetime_dtype(data, units, calendar, self.use_cftime)\n",
      "/srv/conda/envs/notebook/lib/python3.6/site-packages/xarray/coding/times.py:426: SerializationWarning: Unable to decode time axis into full numpy.datetime64 objects, continuing using cftime.datetime objects instead, reason: dates out of range\n",
      "  dtype = _decode_cf_datetime_dtype(data, units, calendar, self.use_cftime)\n",
      "/srv/conda/envs/notebook/lib/python3.6/site-packages/numpy/core/_asarray.py:85: SerializationWarning: Unable to decode time axis into full numpy.datetime64 objects, continuing using cftime.datetime objects instead, reason: dates out of range\n",
      "  return array(a, dtype, copy=False, order=order)\n"
     ]
    },
    {
     "name": "stdout",
     "output_type": "stream",
     "text": [
      "202 : IPSL-CM6A-LR_piControl_r1i1p1f1_tos\n",
      "203 : IPSL-CM6A-LR_piControl_r1i2p1f1_ts\n",
      "204 : IPSL-CM6A-LR_piControl_r1i2p1f1_mlotst\n",
      "205 : IPSL-CM6A-LR_piControl_r1i2p1f1_tos\n",
      "206 : HadGEM3-GC31-LL_1pctCO2_r1i1p1f3_ts\n",
      "207 : HadGEM3-GC31-LL_1pctCO2_r1i1p1f3_mlotst\n",
      "208 : HadGEM3-GC31-LL_1pctCO2_r1i1p1f3_tos\n",
      "209 : HadGEM3-GC31-LL_1pctCO2_r2i1p1f3_ts\n",
      "210 : HadGEM3-GC31-LL_1pctCO2_r2i1p1f3_tos\n",
      "211 : HadGEM3-GC31-LL_1pctCO2_r3i1p1f3_ts\n",
      "212 : HadGEM3-GC31-LL_1pctCO2_r3i1p1f3_tos\n",
      "213 : HadGEM3-GC31-LL_1pctCO2_r4i1p1f3_ts\n",
      "214 : HadGEM3-GC31-LL_1pctCO2_r4i1p1f3_tos\n",
      "215 : HadGEM3-GC31-LL_abrupt-4xCO2_r1i1p1f3_ts\n",
      "216 : HadGEM3-GC31-LL_abrupt-4xCO2_r1i1p1f3_mlotst\n",
      "217 : HadGEM3-GC31-LL_abrupt-4xCO2_r1i1p1f3_tos\n",
      "218 : HadGEM3-GC31-LL_piControl_r1i1p1f1_ts\n",
      "219 : HadGEM3-GC31-LL_piControl_r1i1p1f1_mlotst\n",
      "220 : HadGEM3-GC31-LL_piControl_r1i1p1f1_tos\n",
      "221 : HadGEM3-GC31-MM_piControl_r1i1p1f1_ts\n",
      "222 : HadGEM3-GC31-MM_piControl_r1i1p1f1_mlotst\n",
      "FAILED on 222 : HadGEM3-GC31-MM_piControl_r1i1p1f1_mlotst\n",
      "223 : HadGEM3-GC31-MM_piControl_r1i1p1f1_tos\n",
      "FAILED on 223 : HadGEM3-GC31-MM_piControl_r1i1p1f1_tos\n",
      "224 : UKESM1-0-LL_1pctCO2_r1i1p1f2_ts\n",
      "225 : UKESM1-0-LL_1pctCO2_r1i1p1f2_tos\n",
      "226 : UKESM1-0-LL_1pctCO2_r2i1p1f2_ts\n",
      "227 : UKESM1-0-LL_1pctCO2_r2i1p1f2_tos\n",
      "228 : UKESM1-0-LL_1pctCO2_r3i1p1f2_ts\n",
      "229 : UKESM1-0-LL_1pctCO2_r3i1p1f2_tos\n",
      "230 : UKESM1-0-LL_1pctCO2_r4i1p1f2_ts\n",
      "231 : UKESM1-0-LL_1pctCO2_r4i1p1f2_tos\n",
      "232 : UKESM1-0-LL_abrupt-4xCO2_r1i1p1f2_ts\n",
      "233 : UKESM1-0-LL_abrupt-4xCO2_r1i1p1f2_tos\n",
      "234 : UKESM1-0-LL_piControl_r1i1p1f2_ts\n",
      "235 : UKESM1-0-LL_piControl_r1i1p1f2_mlotst\n",
      "236 : UKESM1-0-LL_piControl_r1i1p1f2_tos\n",
      "237 : MPI-ESM1-2-HR_1pctCO2_r1i1p1f1_rlut\n",
      "238 : MPI-ESM1-2-HR_1pctCO2_r1i1p1f1_rsdt\n",
      "239 : MPI-ESM1-2-HR_1pctCO2_r1i1p1f1_rsut\n",
      "240 : MPI-ESM1-2-HR_1pctCO2_r1i1p1f1_ts\n",
      "241 : MPI-ESM1-2-HR_abrupt-4xCO2_r1i1p1f1_rlut\n",
      "242 : MPI-ESM1-2-HR_abrupt-4xCO2_r1i1p1f1_rsdt\n",
      "243 : MPI-ESM1-2-HR_abrupt-4xCO2_r1i1p1f1_rsut\n",
      "244 : MPI-ESM1-2-HR_abrupt-4xCO2_r1i1p1f1_ts\n",
      "245 : MPI-ESM1-2-HR_abrupt-4xCO2_r1i1p1f1_tos\n"
     ]
    },
    {
     "name": "stderr",
     "output_type": "stream",
     "text": [
      "/srv/conda/envs/notebook/lib/python3.6/site-packages/xarray/coding/times.py:426: SerializationWarning: Unable to decode time axis into full numpy.datetime64 objects, continuing using cftime.datetime objects instead, reason: dates out of range\n",
      "  dtype = _decode_cf_datetime_dtype(data, units, calendar, self.use_cftime)\n",
      "/srv/conda/envs/notebook/lib/python3.6/site-packages/xarray/coding/times.py:426: SerializationWarning: Unable to decode time axis into full numpy.datetime64 objects, continuing using cftime.datetime objects instead, reason: dates out of range\n",
      "  dtype = _decode_cf_datetime_dtype(data, units, calendar, self.use_cftime)\n",
      "/srv/conda/envs/notebook/lib/python3.6/site-packages/numpy/core/_asarray.py:85: SerializationWarning: Unable to decode time axis into full numpy.datetime64 objects, continuing using cftime.datetime objects instead, reason: dates out of range\n",
      "  return array(a, dtype, copy=False, order=order)\n"
     ]
    },
    {
     "name": "stdout",
     "output_type": "stream",
     "text": [
      "246 : MPI-ESM1-2-HR_piControl_r1i1p1f1_ts\n"
     ]
    },
    {
     "name": "stderr",
     "output_type": "stream",
     "text": [
      "/srv/conda/envs/notebook/lib/python3.6/site-packages/xarray/coding/times.py:426: SerializationWarning: Unable to decode time axis into full numpy.datetime64 objects, continuing using cftime.datetime objects instead, reason: dates out of range\n",
      "  dtype = _decode_cf_datetime_dtype(data, units, calendar, self.use_cftime)\n",
      "/srv/conda/envs/notebook/lib/python3.6/site-packages/xarray/coding/times.py:426: SerializationWarning: Unable to decode time axis into full numpy.datetime64 objects, continuing using cftime.datetime objects instead, reason: dates out of range\n",
      "  dtype = _decode_cf_datetime_dtype(data, units, calendar, self.use_cftime)\n",
      "/srv/conda/envs/notebook/lib/python3.6/site-packages/numpy/core/_asarray.py:85: SerializationWarning: Unable to decode time axis into full numpy.datetime64 objects, continuing using cftime.datetime objects instead, reason: dates out of range\n",
      "  return array(a, dtype, copy=False, order=order)\n"
     ]
    },
    {
     "name": "stdout",
     "output_type": "stream",
     "text": [
      "247 : MPI-ESM1-2-HR_piControl_r1i1p1f1_mlotst\n",
      "248 : MPI-ESM1-2-LR_1pctCO2_r1i1p1f1_rlut\n",
      "249 : MPI-ESM1-2-LR_1pctCO2_r1i1p1f1_rsdt\n",
      "250 : MPI-ESM1-2-LR_1pctCO2_r1i1p1f1_rsut\n",
      "251 : MPI-ESM1-2-LR_1pctCO2_r1i1p1f1_ts\n",
      "252 : MPI-ESM1-2-LR_1pctCO2_r1i1p1f1_mlotst\n"
     ]
    },
    {
     "name": "stderr",
     "output_type": "stream",
     "text": [
      "/srv/conda/envs/notebook/lib/python3.6/site-packages/xarray/coding/times.py:426: SerializationWarning: Unable to decode time axis into full numpy.datetime64 objects, continuing using cftime.datetime objects instead, reason: dates out of range\n",
      "  dtype = _decode_cf_datetime_dtype(data, units, calendar, self.use_cftime)\n",
      "/srv/conda/envs/notebook/lib/python3.6/site-packages/xarray/coding/times.py:426: SerializationWarning: Unable to decode time axis into full numpy.datetime64 objects, continuing using cftime.datetime objects instead, reason: dates out of range\n",
      "  dtype = _decode_cf_datetime_dtype(data, units, calendar, self.use_cftime)\n",
      "/srv/conda/envs/notebook/lib/python3.6/site-packages/numpy/core/_asarray.py:85: SerializationWarning: Unable to decode time axis into full numpy.datetime64 objects, continuing using cftime.datetime objects instead, reason: dates out of range\n",
      "  return array(a, dtype, copy=False, order=order)\n"
     ]
    },
    {
     "name": "stdout",
     "output_type": "stream",
     "text": [
      "253 : MPI-ESM1-2-LR_piControl_r1i1p1f1_ts\n",
      "254 : MRI-ESM2-0_1pctCO2_r1i1p1f1_rlut\n",
      "255 : MRI-ESM2-0_1pctCO2_r1i1p1f1_rsdt\n",
      "256 : MRI-ESM2-0_1pctCO2_r1i1p1f1_rsut\n",
      "257 : MRI-ESM2-0_1pctCO2_r1i1p1f1_ts\n",
      "258 : MRI-ESM2-0_1pctCO2_r1i1p1f1_tos\n",
      "260 : MRI-ESM2-0_1pctCO2_r1i2p1f1_rlut\n",
      "261 : MRI-ESM2-0_1pctCO2_r1i2p1f1_rsdt\n",
      "262 : MRI-ESM2-0_1pctCO2_r1i2p1f1_rsut\n",
      "263 : MRI-ESM2-0_1pctCO2_r1i2p1f1_ts\n",
      "264 : MRI-ESM2-0_abrupt-4xCO2_r10i1p1f1_rlut\n",
      "265 : MRI-ESM2-0_abrupt-4xCO2_r10i1p1f1_rsdt\n",
      "266 : MRI-ESM2-0_abrupt-4xCO2_r10i1p1f1_rsut\n",
      "267 : MRI-ESM2-0_abrupt-4xCO2_r10i1p1f1_ts\n",
      "268 : MRI-ESM2-0_abrupt-4xCO2_r10i1p1f1_tos\n",
      "270 : MRI-ESM2-0_abrupt-4xCO2_r11i1p1f1_rlut\n",
      "271 : MRI-ESM2-0_abrupt-4xCO2_r11i1p1f1_rsdt\n",
      "272 : MRI-ESM2-0_abrupt-4xCO2_r11i1p1f1_rsut\n",
      "273 : MRI-ESM2-0_abrupt-4xCO2_r11i1p1f1_ts\n",
      "274 : MRI-ESM2-0_abrupt-4xCO2_r12i1p1f1_rlut\n",
      "275 : MRI-ESM2-0_abrupt-4xCO2_r12i1p1f1_rsdt\n",
      "276 : MRI-ESM2-0_abrupt-4xCO2_r12i1p1f1_rsut\n",
      "277 : MRI-ESM2-0_abrupt-4xCO2_r12i1p1f1_ts\n",
      "278 : MRI-ESM2-0_abrupt-4xCO2_r13i1p1f1_rlut\n",
      "279 : MRI-ESM2-0_abrupt-4xCO2_r13i1p1f1_rsdt\n",
      "280 : MRI-ESM2-0_abrupt-4xCO2_r13i1p1f1_rsut\n",
      "281 : MRI-ESM2-0_abrupt-4xCO2_r13i1p1f1_ts\n",
      "282 : MRI-ESM2-0_abrupt-4xCO2_r1i1p1f1_rlut\n",
      "283 : MRI-ESM2-0_abrupt-4xCO2_r1i1p1f1_rsdt\n",
      "284 : MRI-ESM2-0_abrupt-4xCO2_r1i1p1f1_rsut\n",
      "285 : MRI-ESM2-0_abrupt-4xCO2_r1i1p1f1_ts\n",
      "286 : MRI-ESM2-0_abrupt-4xCO2_r1i2p1f1_rlut\n",
      "287 : MRI-ESM2-0_abrupt-4xCO2_r1i2p1f1_rsdt\n",
      "288 : MRI-ESM2-0_abrupt-4xCO2_r1i2p1f1_rsut\n",
      "289 : MRI-ESM2-0_abrupt-4xCO2_r1i2p1f1_ts\n",
      "290 : MRI-ESM2-0_abrupt-4xCO2_r2i1p1f1_rlut\n",
      "291 : MRI-ESM2-0_abrupt-4xCO2_r2i1p1f1_rsdt\n",
      "292 : MRI-ESM2-0_abrupt-4xCO2_r2i1p1f1_rsut\n",
      "293 : MRI-ESM2-0_abrupt-4xCO2_r2i1p1f1_ts\n",
      "294 : MRI-ESM2-0_abrupt-4xCO2_r3i1p1f1_rlut\n",
      "295 : MRI-ESM2-0_abrupt-4xCO2_r3i1p1f1_rsdt\n",
      "296 : MRI-ESM2-0_abrupt-4xCO2_r3i1p1f1_rsut\n",
      "297 : MRI-ESM2-0_abrupt-4xCO2_r3i1p1f1_ts\n",
      "298 : MRI-ESM2-0_abrupt-4xCO2_r4i1p1f1_rlut\n",
      "299 : MRI-ESM2-0_abrupt-4xCO2_r4i1p1f1_rsdt\n"
     ]
    },
    {
     "name": "stderr",
     "output_type": "stream",
     "text": [
      "tornado.application - ERROR - Exception in callback functools.partial(<bound method IOLoop._discard_future_result of <zmq.eventloop.ioloop.ZMQIOLoop object at 0x7fa54393e4e0>>, <Task finished coro=<SpecCluster._correct_state_internal() done, defined at /srv/conda/envs/notebook/lib/python3.6/site-packages/distributed/deploy/spec.py:300> exception=AttributeError(\"'KubeCluster' object has no attribute '_lock'\",)>)\n",
      "Traceback (most recent call last):\n",
      "  File \"/srv/conda/envs/notebook/lib/python3.6/site-packages/tornado/ioloop.py\", line 743, in _run_callback\n",
      "    ret = callback()\n",
      "  File \"/srv/conda/envs/notebook/lib/python3.6/site-packages/tornado/ioloop.py\", line 767, in _discard_future_result\n",
      "    future.result()\n",
      "  File \"/srv/conda/envs/notebook/lib/python3.6/site-packages/distributed/deploy/spec.py\", line 381, in _close\n",
      "    await self._correct_state()\n",
      "  File \"/srv/conda/envs/notebook/lib/python3.6/site-packages/distributed/deploy/spec.py\", line 301, in _correct_state_internal\n",
      "    async with self._lock:\n",
      "AttributeError: 'KubeCluster' object has no attribute '_lock'\n",
      "tornado.application - ERROR - Exception in callback functools.partial(<bound method IOLoop._discard_future_result of <zmq.eventloop.ioloop.ZMQIOLoop object at 0x7fa54393e4e0>>, <Task finished coro=<SpecCluster._close() done, defined at /srv/conda/envs/notebook/lib/python3.6/site-packages/distributed/deploy/spec.py:373> exception=AttributeError(\"'KubeCluster' object has no attribute '_lock'\",)>)\n",
      "Traceback (most recent call last):\n",
      "  File \"/srv/conda/envs/notebook/lib/python3.6/site-packages/tornado/ioloop.py\", line 743, in _run_callback\n",
      "    ret = callback()\n",
      "  File \"/srv/conda/envs/notebook/lib/python3.6/site-packages/tornado/ioloop.py\", line 767, in _discard_future_result\n",
      "    future.result()\n",
      "  File \"/srv/conda/envs/notebook/lib/python3.6/site-packages/tornado/ioloop.py\", line 743, in _run_callback\n",
      "    ret = callback()\n",
      "  File \"/srv/conda/envs/notebook/lib/python3.6/site-packages/tornado/ioloop.py\", line 767, in _discard_future_result\n",
      "    future.result()\n",
      "  File \"/srv/conda/envs/notebook/lib/python3.6/site-packages/distributed/deploy/spec.py\", line 381, in _close\n",
      "    await self._correct_state()\n",
      "  File \"/srv/conda/envs/notebook/lib/python3.6/site-packages/distributed/deploy/spec.py\", line 301, in _correct_state_internal\n",
      "    async with self._lock:\n",
      "AttributeError: 'KubeCluster' object has no attribute '_lock'\n"
     ]
    },
    {
     "name": "stdout",
     "output_type": "stream",
     "text": [
      "300 : MRI-ESM2-0_abrupt-4xCO2_r4i1p1f1_rsut\n",
      "301 : MRI-ESM2-0_abrupt-4xCO2_r4i1p1f1_ts\n",
      "302 : MRI-ESM2-0_abrupt-4xCO2_r5i1p1f1_rlut\n",
      "303 : MRI-ESM2-0_abrupt-4xCO2_r5i1p1f1_rsdt\n",
      "304 : MRI-ESM2-0_abrupt-4xCO2_r5i1p1f1_rsut\n",
      "305 : MRI-ESM2-0_abrupt-4xCO2_r5i1p1f1_ts\n",
      "306 : MRI-ESM2-0_abrupt-4xCO2_r6i1p1f1_rlut\n",
      "307 : MRI-ESM2-0_abrupt-4xCO2_r6i1p1f1_rsdt\n",
      "308 : MRI-ESM2-0_abrupt-4xCO2_r6i1p1f1_rsut\n",
      "309 : MRI-ESM2-0_abrupt-4xCO2_r6i1p1f1_ts\n",
      "310 : MRI-ESM2-0_abrupt-4xCO2_r7i1p1f1_rlut\n",
      "311 : MRI-ESM2-0_abrupt-4xCO2_r7i1p1f1_rsdt\n",
      "312 : MRI-ESM2-0_abrupt-4xCO2_r7i1p1f1_rsut\n",
      "313 : MRI-ESM2-0_abrupt-4xCO2_r7i1p1f1_ts\n",
      "314 : MRI-ESM2-0_abrupt-4xCO2_r8i1p1f1_rlut\n",
      "315 : MRI-ESM2-0_abrupt-4xCO2_r8i1p1f1_rsdt\n",
      "316 : MRI-ESM2-0_abrupt-4xCO2_r8i1p1f1_rsut\n",
      "317 : MRI-ESM2-0_abrupt-4xCO2_r8i1p1f1_ts\n",
      "318 : MRI-ESM2-0_abrupt-4xCO2_r9i1p1f1_rlut\n",
      "319 : MRI-ESM2-0_abrupt-4xCO2_r9i1p1f1_rsdt\n",
      "320 : MRI-ESM2-0_abrupt-4xCO2_r9i1p1f1_rsut\n",
      "321 : MRI-ESM2-0_abrupt-4xCO2_r9i1p1f1_ts\n",
      "322 : MRI-ESM2-0_piControl_r1i1p1f1_ts\n"
     ]
    },
    {
     "name": "stderr",
     "output_type": "stream",
     "text": [
      "/srv/conda/envs/notebook/lib/python3.6/site-packages/xarray/coding/times.py:426: SerializationWarning: Unable to decode time axis into full numpy.datetime64 objects, continuing using cftime.datetime objects instead, reason: dates out of range\n",
      "  dtype = _decode_cf_datetime_dtype(data, units, calendar, self.use_cftime)\n",
      "/srv/conda/envs/notebook/lib/python3.6/site-packages/xarray/coding/times.py:426: SerializationWarning: Unable to decode time axis into full numpy.datetime64 objects, continuing using cftime.datetime objects instead, reason: dates out of range\n",
      "  dtype = _decode_cf_datetime_dtype(data, units, calendar, self.use_cftime)\n",
      "/srv/conda/envs/notebook/lib/python3.6/site-packages/numpy/core/_asarray.py:85: SerializationWarning: Unable to decode time axis into full numpy.datetime64 objects, continuing using cftime.datetime objects instead, reason: dates out of range\n",
      "  return array(a, dtype, copy=False, order=order)\n"
     ]
    },
    {
     "name": "stdout",
     "output_type": "stream",
     "text": [
      "323 : MRI-ESM2-0_piControl_r1i1p1f1_mlotst\n"
     ]
    },
    {
     "name": "stderr",
     "output_type": "stream",
     "text": [
      "/srv/conda/envs/notebook/lib/python3.6/site-packages/xarray/coding/times.py:426: SerializationWarning: Unable to decode time axis into full numpy.datetime64 objects, continuing using cftime.datetime objects instead, reason: dates out of range\n",
      "  dtype = _decode_cf_datetime_dtype(data, units, calendar, self.use_cftime)\n",
      "/srv/conda/envs/notebook/lib/python3.6/site-packages/xarray/coding/times.py:426: SerializationWarning: Unable to decode time axis into full numpy.datetime64 objects, continuing using cftime.datetime objects instead, reason: dates out of range\n",
      "  dtype = _decode_cf_datetime_dtype(data, units, calendar, self.use_cftime)\n",
      "/srv/conda/envs/notebook/lib/python3.6/site-packages/numpy/core/_asarray.py:85: SerializationWarning: Unable to decode time axis into full numpy.datetime64 objects, continuing using cftime.datetime objects instead, reason: dates out of range\n",
      "  return array(a, dtype, copy=False, order=order)\n"
     ]
    },
    {
     "name": "stdout",
     "output_type": "stream",
     "text": [
      "324 : MRI-ESM2-0_piControl_r1i1p1f1_tos\n",
      "326 : MRI-ESM2-0_piControl_r1i2p1f1_ts\n",
      "327 : GISS-E2-1-G-CC_piControl_r1i1p1f1_ts\n",
      "328 : GISS-E2-1-G-CC_piControl_r1i1p1f1_mlotst\n",
      "329 : GISS-E2-1-G-CC_piControl_r1i1p1f1_tos\n",
      "330 : GISS-E2-1-G_1pctCO2_r102i1p1f1_ts\n",
      "331 : GISS-E2-1-G_1pctCO2_r102i1p1f1_tos\n",
      "332 : GISS-E2-1-G_1pctCO2_r1i1p1f1_ts\n",
      "333 : GISS-E2-1-G_1pctCO2_r1i1p1f1_tos\n",
      "334 : GISS-E2-1-G_1pctCO2_r1i1p3f1_ts\n",
      "335 : GISS-E2-1-G_1pctCO2_r1i1p3f1_tos\n",
      "336 : GISS-E2-1-G_abrupt-4xCO2_r102i1p1f1_ts\n",
      "337 : GISS-E2-1-G_abrupt-4xCO2_r1i1p1f1_ts\n",
      "338 : GISS-E2-1-G_abrupt-4xCO2_r1i1p1f1_tos\n",
      "339 : GISS-E2-1-G_abrupt-4xCO2_r1i1p1f3_ts\n",
      "340 : GISS-E2-1-G_abrupt-4xCO2_r1i1p3f1_ts\n",
      "341 : GISS-E2-1-G_piControl_r101i1p1f1_ts\n",
      "342 : GISS-E2-1-G_piControl_r101i1p1f1_mlotst\n",
      "343 : GISS-E2-1-G_piControl_r101i1p1f1_tos\n",
      "344 : GISS-E2-1-G_piControl_r102i1p1f1_ts\n",
      "345 : GISS-E2-1-G_piControl_r102i1p1f1_mlotst\n",
      "346 : GISS-E2-1-G_piControl_r102i1p1f1_tos\n",
      "347 : GISS-E2-1-G_piControl_r1i1p1f1_ts\n",
      "348 : GISS-E2-1-G_piControl_r1i1p1f1_mlotst\n",
      "349 : GISS-E2-1-G_piControl_r1i1p1f1_tos\n",
      "350 : GISS-E2-1-G_piControl_r1i1p1f2_ts\n",
      "351 : GISS-E2-1-G_piControl_r1i1p1f2_mlotst\n",
      "352 : GISS-E2-1-G_piControl_r1i1p1f2_tos\n",
      "353 : GISS-E2-1-G_piControl_r1i1p1f3_ts\n",
      "354 : GISS-E2-1-G_piControl_r1i1p1f3_mlotst\n",
      "355 : GISS-E2-1-G_piControl_r1i1p1f3_tos\n",
      "356 : GISS-E2-1-G_piControl_r2i1p1f1_ts\n",
      "357 : GISS-E2-1-G_piControl_r2i1p1f1_mlotst\n",
      "358 : GISS-E2-1-G_piControl_r2i1p1f1_tos\n",
      "359 : GISS-E2-2-G_1pctCO2_r1i1p1f1_ts\n",
      "360 : GISS-E2-2-G_1pctCO2_r1i1p1f1_tos\n",
      "361 : GISS-E2-2-G_piControl_r1i1p1f1_ts\n",
      "362 : GISS-E2-2-G_piControl_r1i1p1f1_mlotst\n",
      "363 : GISS-E2-2-G_piControl_r1i1p1f1_tos\n",
      "364 : CESM2-FV2_piControl_r1i1p1f1_ts\n",
      "365 : CESM2-FV2_piControl_r1i1p1f1_mlotst\n",
      "367 : CESM2-FV2_piControl_r1i1p1f1_tos\n",
      "369 : CESM2-WACCM-FV2_piControl_r1i1p1f1_ts\n",
      "370 : CESM2-WACCM-FV2_piControl_r1i1p1f1_mlotst\n",
      "372 : CESM2-WACCM-FV2_piControl_r1i1p1f1_tos\n",
      "374 : CESM2-WACCM_1pctCO2_r1i1p1f1_ts\n",
      "375 : CESM2-WACCM_1pctCO2_r1i1p1f1_tos\n",
      "377 : CESM2-WACCM_abrupt-4xCO2_r1i1p1f1_ts\n",
      "378 : CESM2-WACCM_abrupt-4xCO2_r1i1p1f1_tos\n",
      "380 : CESM2-WACCM_piControl_r1i1p1f1_ts\n",
      "381 : CESM2-WACCM_piControl_r1i1p1f1_mlotst\n",
      "383 : CESM2-WACCM_piControl_r1i1p1f1_tos\n",
      "385 : CESM2_1pctCO2_r1i1p1f1_ts\n",
      "386 : CESM2_1pctCO2_r1i1p1f1_tos\n",
      "388 : CESM2_abrupt-4xCO2_r1i1p1f1_ts\n",
      "389 : CESM2_abrupt-4xCO2_r1i1p1f1_tos\n",
      "391 : CESM2_piControl_r1i1p1f1_ts\n",
      "392 : CESM2_piControl_r1i1p1f1_mlotst\n",
      "394 : CESM2_piControl_r1i1p1f1_tos\n",
      "396 : NorCPM1_1pctCO2_r1i1p1f1_ts\n",
      "397 : NorCPM1_1pctCO2_r1i1p1f1_mlotst\n",
      "398 : NorCPM1_1pctCO2_r1i1p1f1_tos\n",
      "399 : NorCPM1_abrupt-4xCO2_r1i1p1f1_ts\n",
      "400 : NorCPM1_abrupt-4xCO2_r1i1p1f1_mlotst\n",
      "401 : NorCPM1_piControl_r1i1p1f1_ts\n",
      "402 : NorCPM1_piControl_r2i1p1f1_ts\n",
      "403 : NorCPM1_piControl_r3i1p1f1_ts\n",
      "404 : NorESM2-LM_abrupt-4xCO2_r1i1p1f1_ts\n",
      "405 : NorESM2-MM_1pctCO2_r1i1p1f1_ts\n",
      "406 : NorESM2-MM_abrupt-4xCO2_r1i1p1f1_ts\n",
      "407 : GFDL-CM4_piControl_r1i1p1f1_ts\n",
      "408 : GFDL-CM4_piControl_r1i1p1f1_mlotst\n",
      "FAILED on 408 : GFDL-CM4_piControl_r1i1p1f1_mlotst\n",
      "409 : GFDL-CM4_piControl_r1i1p1f1_tos\n",
      "411 : GFDL-ESM4_piControl_r1i1p1f1_ts\n",
      "412 : GFDL-ESM4_piControl_r1i1p1f1_mlotst\n"
     ]
    }
   ],
   "source": [
    "for num in tqdm(list(range(len(dfs)))):\n",
    "    s = dfs.iloc[num]\n",
    "    name = '_'.join([s.source_id, s.experiment_id, s.member_id, s.variable_id])\n",
    "    \n",
    "    if name + '.npy' in os.listdir('data') or 'EC-Earth3' in s.source_id:\n",
    "        continue\n",
    "    \n",
    "    ds = load_data(s)\n",
    "    try:\n",
    "        print(str(num),':',name)\n",
    "\n",
    "        if ds.experiment_id == 'piControl' or ds.experiment_id == '1pctCO2':\n",
    "            ds = ds.sel(time=slice(ds.time[0], ds.time[min([1799, len(ds.time)-1])]))\n",
    "        elif len(ds.time) > 2400:\n",
    "            ds = ds.sel(time=slice(ds.time[0], ds.time[2399]))\n",
    "        m = avg_var(ds, df)\n",
    "\n",
    "        if not isinstance(m, type(None)):\n",
    "            np.save('data/'+name, np.array([m.values[:], np.array([np.datetime64(t) for t in m.time.values])[:]]))\n",
    "    except:\n",
    "        print('FAILED on '+str(num)+' : '+name)"
   ]
  },
  {
   "cell_type": "code",
   "execution_count": 59,
   "metadata": {},
   "outputs": [
    {
     "name": "stdout",
     "output_type": "stream",
     "text": [
      "[-66.41343 -66.41343 -66.41343 ... -66.41343 -66.41343 -66.41343]\n"
     ]
    }
   ],
   "source": [
    "# realm = ds.table_id[0].lower()\n",
    "# df_area = df.query(\"variable_id == 'areacell\"+realm+\"' & source_id == '\"+ds.source_id+\"'\")\n",
    "# ds_area = xr.open_zarr(gcs.get_mapper(df_area.zstore.values[0]), consolidated=True)\n",
    "# area = ds_area.get(\"areacell\"+realm)\n",
    "lat, lon, dims = get_dims(ds)\n",
    "print(ds.coords.get('latitude').latitude.data[324].compute())"
   ]
  },
  {
   "cell_type": "markdown",
   "metadata": {},
   "source": [
    "Plot 30-year moving average $\\Delta T$  for 1pctCO2 runs\n",
    "======="
   ]
  },
  {
   "cell_type": "code",
   "execution_count": null,
   "metadata": {},
   "outputs": [],
   "source": [
    "ns = np.array([[f, np.load('data/'+f, allow_pickle = True)] for f in os.listdir('data') if \"1pctCO2\" in f and '_ts.npy' in f])\n",
    "below_ts = np.array([n for n in ns if np.mean(n[1][0]) < 200])\n",
    "dates = [pd.to_datetime(n[1], errors='coerce') for n in ns[:,1]][0]\n",
    "plt.figure(\"1pctCO2 runs\")\n",
    "for f, n in ns:\n",
    "    if not isinstance(n[1,0], type(int)) and f not in below_ts[:,0]:\n",
    "        w = 30\n",
    "        plt.plot_date(dates[int(w/2)-1:int(len(n[0])-w/2)],\n",
    "                      moving_average(n[0], w),\n",
    "                      xdate=True)"
   ]
  },
  {
   "cell_type": "markdown",
   "metadata": {},
   "source": [
    "Plot 30-year moving average $\\Delta T$  for abrupt-4x runs\n",
    "======="
   ]
  },
  {
   "cell_type": "code",
   "execution_count": null,
   "metadata": {},
   "outputs": [],
   "source": [
    "ns = np.array([[f, np.load('data/'+f, allow_pickle = True)] for f in os.listdir('data') if \"abrupt\" in f and '_ts.npy' in f])\n",
    "below_ts = np.array([n[0] for n in ns if np.mean(n[1][0]) < 200])\n",
    "short_ts = np.array([n[0] for n in ns if len(n[1][1]) < 1700])\n",
    "dates = [d for d in [pd.to_datetime(n[1], errors='coerce') for n in ns[:,1]] if d[0] != 'NaT']\n",
    "plt.figure(\"1pctCO2 runs\")\n",
    "for f, n in ns:\n",
    "    if f not in below_ts and f not in short_ts:\n",
    "        w = 30\n",
    "        d = next(d for d in dates if len(d) == len(n[0]))\n",
    "        plt.plot_date(d[int(w/2)-1:int(len(n[0])-w/2)],\n",
    "                      moving_average(n[0], w),\n",
    "                      xdate=True, fmt='-')"
   ]
  },
  {
   "cell_type": "code",
   "execution_count": null,
   "metadata": {},
   "outputs": [],
   "source": [
    "np.shape(dates[0])"
   ]
  },
  {
   "cell_type": "code",
   "execution_count": null,
   "metadata": {},
   "outputs": [],
   "source": [
    "def percentiles(ds, df):\n",
    "    Area = get_area(ds, df)\n",
    "    Var = ds.get(ds.variable_id)\n",
    "    \n",
    "    percentiles = []\n",
    "    \n",
    "    for t in range(len(Var.time)):\n",
    "        area = Area[t]\n",
    "        var = Var[t]\n",
    "        time = Var.time[t]\n",
    "        \n",
    "        weights = np.reshape(area.data, (np.prod(np.shape(var)),1))\n",
    "        vals = np.reshape(var.data, (np.prod(np.shape(var)),1))\n",
    "        weights = np.array(weights[~np.isnan(vals)])\n",
    "        vals = np.array(vals[~np.isnan(vals)])\n",
    "\n",
    "        idx = np.argsort(vals)\n",
    "        vals = np.take_along_axis(vals, idx, axis=0)\n",
    "        sorted_weights = np.array(np.take_along_axis(weights, idx, axis=0))\n",
    "        total = np.nansum(weights)\n",
    "\n",
    "        i = 0\n",
    "        low = 0\n",
    "        N = len(weights)\n",
    "        pcts = np.array([0.05, 0.17, 0.5, 0.83, 0.95])\n",
    "        pct_vals = []\n",
    "        for j in range(0,len(vals)):\n",
    "            low = low + sorted_weights[j]\n",
    "            high = low + sorted_weights[min(j+1,N)]\n",
    "            # If the cumulative weights are nearest the next percentile\n",
    "            # Then mark down the value\n",
    "            if low/total < pcts[i] and high/total >= pcts[i]:\n",
    "                pct_vals += [[pcts[i], vals[j]]]\n",
    "                if i == np.shape(pcts)[0] - 1:\n",
    "                    break\n",
    "                i = i + 1\n",
    "                \n",
    "        percentiles += [time, pct_vals]\n",
    "    \n",
    "    return percentiles\n"
   ]
  },
  {
   "cell_type": "code",
   "execution_count": null,
   "metadata": {},
   "outputs": [],
   "source": [
    "get_dims(ds)"
   ]
  },
  {
   "cell_type": "code",
   "execution_count": null,
   "metadata": {},
   "outputs": [],
   "source": []
  }
 ],
 "metadata": {
  "kernelspec": {
   "display_name": "Python 3",
   "language": "python",
   "name": "python3"
  },
  "language_info": {
   "codemirror_mode": {
    "name": "ipython",
    "version": 3
   },
   "file_extension": ".py",
   "mimetype": "text/x-python",
   "name": "python",
   "nbconvert_exporter": "python",
   "pygments_lexer": "ipython3",
   "version": "3.6.10"
  }
 },
 "nbformat": 4,
 "nbformat_minor": 4
}
