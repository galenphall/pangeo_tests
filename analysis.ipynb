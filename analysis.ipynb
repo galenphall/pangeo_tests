{
 "cells": [
  {
   "cell_type": "code",
   "execution_count": 1,
   "metadata": {},
   "outputs": [],
   "source": [
    "def tcr_classic(ts_expt, ts_ctrl):\n",
    "    m_expt = np.mean(ts_expt[0,60*12:80*12])\n",
    "    m_ctrl = np.mean(ts_ctrl[0,60*12:80*12])\n",
    "    std_expt = np.std(np.random.choice(ts_expt[0,60*12:80*12], 10000))\n",
    "    std_ctrl = np.std(np.random.choice(ts_expt[0,60*12:80*12], 10000))\n",
    "    return m_expt - m_ctrl, np.sqrt(np.sum(np.square([std_expt,std_ctrl])))"
   ]
  },
  {
   "cell_type": "code",
   "execution_count": null,
   "metadata": {},
   "outputs": [],
   "source": [
    "def load(keys):\n",
    "    for k in keys"
   ]
  },
  {
   "cell_type": "markdown",
   "metadata": {},
   "source": [
    "Plot 30-year moving average $\\Delta T$  for 1pctCO2 runs\n",
    "======="
   ]
  },
  {
   "cell_type": "code",
   "execution_count": null,
   "metadata": {},
   "outputs": [],
   "source": [
    "ns = np.array([[f, np.load('data/'+f, allow_pickle = True)] for f in os.listdir('data') if \"1pctCO2\" in f and '_ts.npy' in f])\n",
    "below_ts = np.array([n for n in ns if np.mean(n[1][0]) < 200])\n",
    "dates = [pd.to_datetime(n[1], errors='coerce') for n in ns[:,1]][0]\n",
    "plt.figure(\"1pctCO2 runs\")\n",
    "for f, n in ns:\n",
    "    if not isinstance(n[1,0], type(int)) and f not in below_ts[:,0]:\n",
    "        w = 30\n",
    "        plt.plot_date(dates[int(w/2)-1:int(len(n[0])-w/2)],\n",
    "                      moving_average(n[0], w),\n",
    "                      xdate=True)"
   ]
  },
  {
   "cell_type": "markdown",
   "metadata": {},
   "source": [
    "Plot 30-year moving average $\\Delta T$  for abrupt-4x runs\n",
    "======="
   ]
  },
  {
   "cell_type": "code",
   "execution_count": null,
   "metadata": {},
   "outputs": [],
   "source": [
    "ns = np.array([[f, np.load('data/'+f, allow_pickle = True)] for f in os.listdir('data') if \"abrupt\" in f and '_ts.npy' in f])\n",
    "below_ts = np.array([n[0] for n in ns if np.mean(n[1][0]) < 200])\n",
    "short_ts = np.array([n[0] for n in ns if len(n[1][1]) < 1700])\n",
    "dates = [d for d in [pd.to_datetime(n[1], errors='coerce') for n in ns[:,1]] if d[0] != 'NaT']\n",
    "plt.figure(\"1pctCO2 runs\")\n",
    "for f, n in ns:\n",
    "    if f not in below_ts and f not in short_ts:\n",
    "        w = 30\n",
    "        d = next(d for d in dates if len(d) == len(n[0]))\n",
    "        plt.plot_date(d[int(w/2)-1:int(len(n[0])-w/2)],\n",
    "                      moving_average(n[0], w),\n",
    "                      xdate=True, fmt='-')"
   ]
  }
 ],
 "metadata": {
  "kernelspec": {
   "display_name": "Python 3",
   "language": "python",
   "name": "python3"
  },
  "language_info": {
   "codemirror_mode": {
    "name": "ipython",
    "version": 3
   },
   "file_extension": ".py",
   "mimetype": "text/x-python",
   "name": "python",
   "nbconvert_exporter": "python",
   "pygments_lexer": "ipython3",
   "version": "3.6.10"
  }
 },
 "nbformat": 4,
 "nbformat_minor": 4
}
